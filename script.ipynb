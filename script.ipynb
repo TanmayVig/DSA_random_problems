{
 "cells": [
  {
   "cell_type": "code",
   "execution_count": 2,
   "id": "f07f8a21",
   "metadata": {},
   "outputs": [],
   "source": [
    "import sqlite3 as sql\n",
    "import pandas as pd"
   ]
  },
  {
   "cell_type": "code",
   "execution_count": 83,
   "id": "2bccb055",
   "metadata": {},
   "outputs": [],
   "source": [
    "df = pd.read_excel('FINAL450.xlsx')"
   ]
  },
  {
   "cell_type": "code",
   "execution_count": 84,
   "id": "5f4fdc7c",
   "metadata": {},
   "outputs": [
    {
     "data": {
      "text/html": [
       "<div>\n",
       "<style scoped>\n",
       "    .dataframe tbody tr th:only-of-type {\n",
       "        vertical-align: middle;\n",
       "    }\n",
       "\n",
       "    .dataframe tbody tr th {\n",
       "        vertical-align: top;\n",
       "    }\n",
       "\n",
       "    .dataframe thead th {\n",
       "        text-align: right;\n",
       "    }\n",
       "</style>\n",
       "<table border=\"1\" class=\"dataframe\">\n",
       "  <thead>\n",
       "    <tr style=\"text-align: right;\">\n",
       "      <th></th>\n",
       "      <th>Topic</th>\n",
       "      <th>Problem</th>\n",
       "      <th>Done</th>\n",
       "    </tr>\n",
       "  </thead>\n",
       "  <tbody>\n",
       "    <tr>\n",
       "      <th>0</th>\n",
       "      <td>Array</td>\n",
       "      <td>Reverse the array</td>\n",
       "      <td>n</td>\n",
       "    </tr>\n",
       "    <tr>\n",
       "      <th>1</th>\n",
       "      <td>Array</td>\n",
       "      <td>Find the maximum and minimum element in an array</td>\n",
       "      <td>n</td>\n",
       "    </tr>\n",
       "    <tr>\n",
       "      <th>2</th>\n",
       "      <td>Array</td>\n",
       "      <td>Find the \"Kth\" max and min element of an array</td>\n",
       "      <td>n</td>\n",
       "    </tr>\n",
       "    <tr>\n",
       "      <th>3</th>\n",
       "      <td>Array</td>\n",
       "      <td>Given an array which consists of only 0, 1 and...</td>\n",
       "      <td>n</td>\n",
       "    </tr>\n",
       "    <tr>\n",
       "      <th>4</th>\n",
       "      <td>Array</td>\n",
       "      <td>Move all the negative elements to one side of ...</td>\n",
       "      <td>n</td>\n",
       "    </tr>\n",
       "    <tr>\n",
       "      <th>...</th>\n",
       "      <td>...</td>\n",
       "      <td>...</td>\n",
       "      <td>...</td>\n",
       "    </tr>\n",
       "    <tr>\n",
       "      <th>443</th>\n",
       "      <td>Bit Manipulation</td>\n",
       "      <td>Find position of the only set bit</td>\n",
       "      <td>n</td>\n",
       "    </tr>\n",
       "    <tr>\n",
       "      <th>444</th>\n",
       "      <td>Bit Manipulation</td>\n",
       "      <td>Copy set bits in a range</td>\n",
       "      <td>n</td>\n",
       "    </tr>\n",
       "    <tr>\n",
       "      <th>445</th>\n",
       "      <td>Bit Manipulation</td>\n",
       "      <td>Divide two integers without using multiplicati...</td>\n",
       "      <td>n</td>\n",
       "    </tr>\n",
       "    <tr>\n",
       "      <th>446</th>\n",
       "      <td>Bit Manipulation</td>\n",
       "      <td>Calculate square of a number without using *, ...</td>\n",
       "      <td>n</td>\n",
       "    </tr>\n",
       "    <tr>\n",
       "      <th>447</th>\n",
       "      <td>Bit Manipulation</td>\n",
       "      <td>Power Set</td>\n",
       "      <td>n</td>\n",
       "    </tr>\n",
       "  </tbody>\n",
       "</table>\n",
       "<p>448 rows × 3 columns</p>\n",
       "</div>"
      ],
      "text/plain": [
       "                Topic                                            Problem Done\n",
       "0               Array                                  Reverse the array    n\n",
       "1               Array   Find the maximum and minimum element in an array    n\n",
       "2               Array    Find the \"Kth\" max and min element of an array     n\n",
       "3               Array  Given an array which consists of only 0, 1 and...    n\n",
       "4               Array  Move all the negative elements to one side of ...    n\n",
       "..                ...                                                ...  ...\n",
       "443  Bit Manipulation                  Find position of the only set bit    n\n",
       "444  Bit Manipulation                           Copy set bits in a range    n\n",
       "445  Bit Manipulation  Divide two integers without using multiplicati...    n\n",
       "446  Bit Manipulation  Calculate square of a number without using *, ...    n\n",
       "447  Bit Manipulation                                          Power Set    n\n",
       "\n",
       "[448 rows x 3 columns]"
      ]
     },
     "execution_count": 84,
     "metadata": {},
     "output_type": "execute_result"
    }
   ],
   "source": [
    "df"
   ]
  },
  {
   "cell_type": "code",
   "execution_count": 85,
   "id": "84aefc58",
   "metadata": {},
   "outputs": [
    {
     "data": {
      "text/html": [
       "<div>\n",
       "<style scoped>\n",
       "    .dataframe tbody tr th:only-of-type {\n",
       "        vertical-align: middle;\n",
       "    }\n",
       "\n",
       "    .dataframe tbody tr th {\n",
       "        vertical-align: top;\n",
       "    }\n",
       "\n",
       "    .dataframe thead th {\n",
       "        text-align: right;\n",
       "    }\n",
       "</style>\n",
       "<table border=\"1\" class=\"dataframe\">\n",
       "  <thead>\n",
       "    <tr style=\"text-align: right;\">\n",
       "      <th></th>\n",
       "      <th>Topic</th>\n",
       "      <th>Problem</th>\n",
       "      <th>Done</th>\n",
       "      <th>id</th>\n",
       "    </tr>\n",
       "  </thead>\n",
       "  <tbody>\n",
       "    <tr>\n",
       "      <th>0</th>\n",
       "      <td>Array</td>\n",
       "      <td>Reverse the array</td>\n",
       "      <td>n</td>\n",
       "      <td>0</td>\n",
       "    </tr>\n",
       "    <tr>\n",
       "      <th>1</th>\n",
       "      <td>Array</td>\n",
       "      <td>Find the maximum and minimum element in an array</td>\n",
       "      <td>n</td>\n",
       "      <td>1</td>\n",
       "    </tr>\n",
       "    <tr>\n",
       "      <th>2</th>\n",
       "      <td>Array</td>\n",
       "      <td>Find the \"Kth\" max and min element of an array</td>\n",
       "      <td>n</td>\n",
       "      <td>2</td>\n",
       "    </tr>\n",
       "    <tr>\n",
       "      <th>3</th>\n",
       "      <td>Array</td>\n",
       "      <td>Given an array which consists of only 0, 1 and...</td>\n",
       "      <td>n</td>\n",
       "      <td>3</td>\n",
       "    </tr>\n",
       "    <tr>\n",
       "      <th>4</th>\n",
       "      <td>Array</td>\n",
       "      <td>Move all the negative elements to one side of ...</td>\n",
       "      <td>n</td>\n",
       "      <td>4</td>\n",
       "    </tr>\n",
       "    <tr>\n",
       "      <th>...</th>\n",
       "      <td>...</td>\n",
       "      <td>...</td>\n",
       "      <td>...</td>\n",
       "      <td>...</td>\n",
       "    </tr>\n",
       "    <tr>\n",
       "      <th>443</th>\n",
       "      <td>Bit Manipulation</td>\n",
       "      <td>Find position of the only set bit</td>\n",
       "      <td>n</td>\n",
       "      <td>443</td>\n",
       "    </tr>\n",
       "    <tr>\n",
       "      <th>444</th>\n",
       "      <td>Bit Manipulation</td>\n",
       "      <td>Copy set bits in a range</td>\n",
       "      <td>n</td>\n",
       "      <td>444</td>\n",
       "    </tr>\n",
       "    <tr>\n",
       "      <th>445</th>\n",
       "      <td>Bit Manipulation</td>\n",
       "      <td>Divide two integers without using multiplicati...</td>\n",
       "      <td>n</td>\n",
       "      <td>445</td>\n",
       "    </tr>\n",
       "    <tr>\n",
       "      <th>446</th>\n",
       "      <td>Bit Manipulation</td>\n",
       "      <td>Calculate square of a number without using *, ...</td>\n",
       "      <td>n</td>\n",
       "      <td>446</td>\n",
       "    </tr>\n",
       "    <tr>\n",
       "      <th>447</th>\n",
       "      <td>Bit Manipulation</td>\n",
       "      <td>Power Set</td>\n",
       "      <td>n</td>\n",
       "      <td>447</td>\n",
       "    </tr>\n",
       "  </tbody>\n",
       "</table>\n",
       "<p>448 rows × 4 columns</p>\n",
       "</div>"
      ],
      "text/plain": [
       "                Topic                                            Problem Done  \\\n",
       "0               Array                                  Reverse the array    n   \n",
       "1               Array   Find the maximum and minimum element in an array    n   \n",
       "2               Array    Find the \"Kth\" max and min element of an array     n   \n",
       "3               Array  Given an array which consists of only 0, 1 and...    n   \n",
       "4               Array  Move all the negative elements to one side of ...    n   \n",
       "..                ...                                                ...  ...   \n",
       "443  Bit Manipulation                  Find position of the only set bit    n   \n",
       "444  Bit Manipulation                           Copy set bits in a range    n   \n",
       "445  Bit Manipulation  Divide two integers without using multiplicati...    n   \n",
       "446  Bit Manipulation  Calculate square of a number without using *, ...    n   \n",
       "447  Bit Manipulation                                          Power Set    n   \n",
       "\n",
       "      id  \n",
       "0      0  \n",
       "1      1  \n",
       "2      2  \n",
       "3      3  \n",
       "4      4  \n",
       "..   ...  \n",
       "443  443  \n",
       "444  444  \n",
       "445  445  \n",
       "446  446  \n",
       "447  447  \n",
       "\n",
       "[448 rows x 4 columns]"
      ]
     },
     "execution_count": 85,
     "metadata": {},
     "output_type": "execute_result"
    }
   ],
   "source": [
    "\n",
    "id = range(0, 448)\n",
    "# print(*id)\n",
    "df['id'] = [*id]\n",
    "df\n"
   ]
  },
  {
   "cell_type": "code",
   "execution_count": 90,
   "id": "ba8f5c34",
   "metadata": {},
   "outputs": [],
   "source": [
    "conn = sql.connect(\"./questions.sqlite\")"
   ]
  },
  {
   "cell_type": "code",
   "execution_count": 91,
   "id": "7dece97a",
   "metadata": {},
   "outputs": [],
   "source": [
    "df.to_sql(\"got_best_placement\", conn)"
   ]
  },
  {
   "cell_type": "code",
   "execution_count": 92,
   "id": "41676755",
   "metadata": {},
   "outputs": [
    {
     "data": {
      "text/plain": [
       "Index(['Topic', 'Problem', 'Done', 'id'], dtype='object')"
      ]
     },
     "execution_count": 92,
     "metadata": {},
     "output_type": "execute_result"
    }
   ],
   "source": [
    "df.keys()"
   ]
  },
  {
   "cell_type": "code",
   "execution_count": 112,
   "id": "6d2ec284",
   "metadata": {},
   "outputs": [],
   "source": [
    "df = pd.read_sql(\"SELECT * FROM got_best_placement WHERE done = 'n' ORDER BY RANDOM() LIMIT 15\", conn)"
   ]
  },
  {
   "cell_type": "code",
   "execution_count": 114,
   "id": "b864cc28",
   "metadata": {},
   "outputs": [],
   "source": [
    "df.to_excel('FINAL15.xlsx')"
   ]
  },
  {
   "cell_type": "code",
   "execution_count": 118,
   "id": "8f1a0272",
   "metadata": {},
   "outputs": [],
   "source": [
    "curr = conn.cursor()\n",
    "for i, r in df.iterrows():\n",
    "    curr.execute('''UPDATE got_best_placement SET Done = 'y' WHERE got_best_placement.id = {id} '''.format(**r.to_dict()))\n",
    "conn.commit()"
   ]
  },
  {
   "cell_type": "code",
   "execution_count": 123,
   "id": "8e6801a0",
   "metadata": {},
   "outputs": [
    {
     "data": {
      "text/plain": [
       "0"
      ]
     },
     "execution_count": 123,
     "metadata": {},
     "output_type": "execute_result"
    }
   ],
   "source": [
    "# curr.execute('''UPDATE got_best_placement SET Done = 'n' WHERE got_best_placement.id = 1 ''')\n",
    "# conn.commit()\n",
    "curr.execute('''SELECT * FROM got_best_placement WHERE Done='y' ''')\n",
    "curr.fetchall().__len__()"
   ]
  },
  {
   "cell_type": "code",
   "execution_count": 122,
   "id": "3794676f",
   "metadata": {},
   "outputs": [],
   "source": [
    "# curr.execute('''UPDATE got_best_placement SET Done = 'n' WHERE Done = 'y' ''')\n",
    "# conn.commit()"
   ]
  },
  {
   "cell_type": "code",
   "execution_count": 124,
   "id": "8953a6e4",
   "metadata": {},
   "outputs": [],
   "source": [
    "conn.close()"
   ]
  },
  {
   "cell_type": "code",
   "execution_count": null,
   "id": "09296740",
   "metadata": {},
   "outputs": [],
   "source": []
  }
 ],
 "metadata": {
  "kernelspec": {
   "display_name": "Python 3.9.5 64-bit",
   "language": "python",
   "name": "python3"
  },
  "language_info": {
   "codemirror_mode": {
    "name": "ipython",
    "version": 3
   },
   "file_extension": ".py",
   "mimetype": "text/x-python",
   "name": "python",
   "nbconvert_exporter": "python",
   "pygments_lexer": "ipython3",
   "version": "3.9.5"
  },
  "vscode": {
   "interpreter": {
    "hash": "e31aef8222fb7c235d2ed8e74ce17e973738f89b37261e7466b7a63a6dfb1214"
   }
  }
 },
 "nbformat": 4,
 "nbformat_minor": 5
}
